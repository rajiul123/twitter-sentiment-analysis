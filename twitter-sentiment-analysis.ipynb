{
 "cells": [
  {
   "cell_type": "code",
   "execution_count": 1,
   "id": "29864d59",
   "metadata": {
    "_cell_guid": "b1076dfc-b9ad-4769-8c92-a6c4dae69d19",
    "_uuid": "8f2839f25d086af736a60e9eeb907d3b93b6e0e5",
    "execution": {
     "iopub.execute_input": "2025-05-20T13:33:42.736555Z",
     "iopub.status.busy": "2025-05-20T13:33:42.736178Z",
     "iopub.status.idle": "2025-05-20T13:33:44.464885Z",
     "shell.execute_reply": "2025-05-20T13:33:44.463995Z"
    },
    "papermill": {
     "duration": 1.739861,
     "end_time": "2025-05-20T13:33:44.466222",
     "exception": false,
     "start_time": "2025-05-20T13:33:42.726361",
     "status": "completed"
    },
    "tags": []
   },
   "outputs": [
    {
     "name": "stdout",
     "output_type": "stream",
     "text": [
      "/kaggle/input/twitter-entity-sentiment-analysis/twitter_validation.csv\n",
      "/kaggle/input/twitter-entity-sentiment-analysis/twitter_training.csv\n"
     ]
    }
   ],
   "source": [
    "# This Python 3 environment comes with many helpful analytics libraries installed\n",
    "# It is defined by the kaggle/python Docker image: https://github.com/kaggle/docker-python\n",
    "# For example, here's several helpful packages to load\n",
    "\n",
    "import numpy as np # linear algebra\n",
    "import pandas as pd # data processing, CSV file I/O (e.g. pd.read_csv)\n",
    "\n",
    "# Input data files are available in the read-only \"../input/\" directory\n",
    "# For example, running this (by clicking run or pressing Shift+Enter) will list all files under the input directory\n",
    "\n",
    "import os\n",
    "for dirname, _, filenames in os.walk('/kaggle/input'):\n",
    "    for filename in filenames:\n",
    "        print(os.path.join(dirname, filename))\n",
    "\n",
    "# You can write up to 20GB to the current directory (/kaggle/working/) that gets preserved as output when you create a version using \"Save & Run All\" \n",
    "# You can also write temporary files to /kaggle/temp/, but they won't be saved outside of the current session"
   ]
  },
  {
   "cell_type": "code",
   "execution_count": 2,
   "id": "92952113",
   "metadata": {
    "execution": {
     "iopub.execute_input": "2025-05-20T13:33:44.482776Z",
     "iopub.status.busy": "2025-05-20T13:33:44.482431Z",
     "iopub.status.idle": "2025-05-20T13:33:44.876908Z",
     "shell.execute_reply": "2025-05-20T13:33:44.876089Z"
    },
    "papermill": {
     "duration": 0.404017,
     "end_time": "2025-05-20T13:33:44.878415",
     "exception": false,
     "start_time": "2025-05-20T13:33:44.474398",
     "status": "completed"
    },
    "tags": []
   },
   "outputs": [
    {
     "data": {
      "text/html": [
       "<div>\n",
       "<style scoped>\n",
       "    .dataframe tbody tr th:only-of-type {\n",
       "        vertical-align: middle;\n",
       "    }\n",
       "\n",
       "    .dataframe tbody tr th {\n",
       "        vertical-align: top;\n",
       "    }\n",
       "\n",
       "    .dataframe thead th {\n",
       "        text-align: right;\n",
       "    }\n",
       "</style>\n",
       "<table border=\"1\" class=\"dataframe\">\n",
       "  <thead>\n",
       "    <tr style=\"text-align: right;\">\n",
       "      <th></th>\n",
       "      <th>id</th>\n",
       "      <th>topic</th>\n",
       "      <th>sentiment</th>\n",
       "      <th>text</th>\n",
       "    </tr>\n",
       "  </thead>\n",
       "  <tbody>\n",
       "    <tr>\n",
       "      <th>0</th>\n",
       "      <td>2401</td>\n",
       "      <td>Borderlands</td>\n",
       "      <td>Positive</td>\n",
       "      <td>im getting on borderlands and i will murder yo...</td>\n",
       "    </tr>\n",
       "    <tr>\n",
       "      <th>1</th>\n",
       "      <td>2401</td>\n",
       "      <td>Borderlands</td>\n",
       "      <td>Positive</td>\n",
       "      <td>I am coming to the borders and I will kill you...</td>\n",
       "    </tr>\n",
       "    <tr>\n",
       "      <th>2</th>\n",
       "      <td>2401</td>\n",
       "      <td>Borderlands</td>\n",
       "      <td>Positive</td>\n",
       "      <td>im getting on borderlands and i will kill you ...</td>\n",
       "    </tr>\n",
       "    <tr>\n",
       "      <th>3</th>\n",
       "      <td>2401</td>\n",
       "      <td>Borderlands</td>\n",
       "      <td>Positive</td>\n",
       "      <td>im coming on borderlands and i will murder you...</td>\n",
       "    </tr>\n",
       "    <tr>\n",
       "      <th>4</th>\n",
       "      <td>2401</td>\n",
       "      <td>Borderlands</td>\n",
       "      <td>Positive</td>\n",
       "      <td>im getting on borderlands 2 and i will murder ...</td>\n",
       "    </tr>\n",
       "  </tbody>\n",
       "</table>\n",
       "</div>"
      ],
      "text/plain": [
       "     id        topic sentiment  \\\n",
       "0  2401  Borderlands  Positive   \n",
       "1  2401  Borderlands  Positive   \n",
       "2  2401  Borderlands  Positive   \n",
       "3  2401  Borderlands  Positive   \n",
       "4  2401  Borderlands  Positive   \n",
       "\n",
       "                                                text  \n",
       "0  im getting on borderlands and i will murder yo...  \n",
       "1  I am coming to the borders and I will kill you...  \n",
       "2  im getting on borderlands and i will kill you ...  \n",
       "3  im coming on borderlands and i will murder you...  \n",
       "4  im getting on borderlands 2 and i will murder ...  "
      ]
     },
     "execution_count": 2,
     "metadata": {},
     "output_type": "execute_result"
    }
   ],
   "source": [
    "column_names = [\"id\", \"topic\", \"sentiment\", \"text\"]\n",
    "df = pd.read_csv(\"/kaggle/input/twitter-entity-sentiment-analysis/twitter_training.csv\", names=column_names)\n",
    "df.head()"
   ]
  },
  {
   "cell_type": "code",
   "execution_count": 3,
   "id": "1c760427",
   "metadata": {
    "execution": {
     "iopub.execute_input": "2025-05-20T13:33:44.895000Z",
     "iopub.status.busy": "2025-05-20T13:33:44.894746Z",
     "iopub.status.idle": "2025-05-20T13:33:44.899822Z",
     "shell.execute_reply": "2025-05-20T13:33:44.899018Z"
    },
    "papermill": {
     "duration": 0.014377,
     "end_time": "2025-05-20T13:33:44.901080",
     "exception": false,
     "start_time": "2025-05-20T13:33:44.886703",
     "status": "completed"
    },
    "tags": []
   },
   "outputs": [
    {
     "data": {
      "text/plain": [
       "(74682, 4)"
      ]
     },
     "execution_count": 3,
     "metadata": {},
     "output_type": "execute_result"
    }
   ],
   "source": [
    "df.shape"
   ]
  },
  {
   "cell_type": "markdown",
   "id": "f8311d0c",
   "metadata": {
    "papermill": {
     "duration": 0.006824,
     "end_time": "2025-05-20T13:33:44.915059",
     "exception": false,
     "start_time": "2025-05-20T13:33:44.908235",
     "status": "completed"
    },
    "tags": []
   },
   "source": [
    "**Observation**\n",
    "* We are interested only in sentiment and text column here. So we're going to drop other columns"
   ]
  },
  {
   "cell_type": "code",
   "execution_count": 4,
   "id": "43572639",
   "metadata": {
    "execution": {
     "iopub.execute_input": "2025-05-20T13:33:44.931443Z",
     "iopub.status.busy": "2025-05-20T13:33:44.931154Z",
     "iopub.status.idle": "2025-05-20T13:33:44.950194Z",
     "shell.execute_reply": "2025-05-20T13:33:44.949390Z"
    },
    "papermill": {
     "duration": 0.02908,
     "end_time": "2025-05-20T13:33:44.951562",
     "exception": false,
     "start_time": "2025-05-20T13:33:44.922482",
     "status": "completed"
    },
    "tags": []
   },
   "outputs": [
    {
     "data": {
      "text/html": [
       "<div>\n",
       "<style scoped>\n",
       "    .dataframe tbody tr th:only-of-type {\n",
       "        vertical-align: middle;\n",
       "    }\n",
       "\n",
       "    .dataframe tbody tr th {\n",
       "        vertical-align: top;\n",
       "    }\n",
       "\n",
       "    .dataframe thead th {\n",
       "        text-align: right;\n",
       "    }\n",
       "</style>\n",
       "<table border=\"1\" class=\"dataframe\">\n",
       "  <thead>\n",
       "    <tr style=\"text-align: right;\">\n",
       "      <th></th>\n",
       "      <th>sentiment</th>\n",
       "      <th>text</th>\n",
       "    </tr>\n",
       "  </thead>\n",
       "  <tbody>\n",
       "    <tr>\n",
       "      <th>0</th>\n",
       "      <td>Positive</td>\n",
       "      <td>im getting on borderlands and i will murder yo...</td>\n",
       "    </tr>\n",
       "    <tr>\n",
       "      <th>1</th>\n",
       "      <td>Positive</td>\n",
       "      <td>I am coming to the borders and I will kill you...</td>\n",
       "    </tr>\n",
       "    <tr>\n",
       "      <th>2</th>\n",
       "      <td>Positive</td>\n",
       "      <td>im getting on borderlands and i will kill you ...</td>\n",
       "    </tr>\n",
       "    <tr>\n",
       "      <th>3</th>\n",
       "      <td>Positive</td>\n",
       "      <td>im coming on borderlands and i will murder you...</td>\n",
       "    </tr>\n",
       "    <tr>\n",
       "      <th>4</th>\n",
       "      <td>Positive</td>\n",
       "      <td>im getting on borderlands 2 and i will murder ...</td>\n",
       "    </tr>\n",
       "  </tbody>\n",
       "</table>\n",
       "</div>"
      ],
      "text/plain": [
       "  sentiment                                               text\n",
       "0  Positive  im getting on borderlands and i will murder yo...\n",
       "1  Positive  I am coming to the borders and I will kill you...\n",
       "2  Positive  im getting on borderlands and i will kill you ...\n",
       "3  Positive  im coming on borderlands and i will murder you...\n",
       "4  Positive  im getting on borderlands 2 and i will murder ..."
      ]
     },
     "execution_count": 4,
     "metadata": {},
     "output_type": "execute_result"
    }
   ],
   "source": [
    "df2 = df[[\"sentiment\", \"text\"]]\n",
    "df2.head()"
   ]
  },
  {
   "cell_type": "code",
   "execution_count": 5,
   "id": "df7f9957",
   "metadata": {
    "execution": {
     "iopub.execute_input": "2025-05-20T13:33:44.968859Z",
     "iopub.status.busy": "2025-05-20T13:33:44.968187Z",
     "iopub.status.idle": "2025-05-20T13:33:44.982939Z",
     "shell.execute_reply": "2025-05-20T13:33:44.982097Z"
    },
    "papermill": {
     "duration": 0.024987,
     "end_time": "2025-05-20T13:33:44.984493",
     "exception": false,
     "start_time": "2025-05-20T13:33:44.959506",
     "status": "completed"
    },
    "tags": []
   },
   "outputs": [
    {
     "data": {
      "text/plain": [
       "sentiment\n",
       "Negative      22542\n",
       "Positive      20832\n",
       "Neutral       18318\n",
       "Irrelevant    12990\n",
       "Name: count, dtype: int64"
      ]
     },
     "execution_count": 5,
     "metadata": {},
     "output_type": "execute_result"
    }
   ],
   "source": [
    "df2.sentiment.value_counts()"
   ]
  },
  {
   "cell_type": "markdown",
   "id": "6be2179e",
   "metadata": {
    "papermill": {
     "duration": 0.007198,
     "end_time": "2025-05-20T13:33:45.000448",
     "exception": false,
     "start_time": "2025-05-20T13:33:44.993250",
     "status": "completed"
    },
    "tags": []
   },
   "source": [
    "**Observation**\n",
    "* We are not interested in \"Irrelevant\" sentiment. So we're going to drop thease rows"
   ]
  },
  {
   "cell_type": "code",
   "execution_count": 6,
   "id": "b675b4be",
   "metadata": {
    "execution": {
     "iopub.execute_input": "2025-05-20T13:33:45.016929Z",
     "iopub.status.busy": "2025-05-20T13:33:45.016218Z",
     "iopub.status.idle": "2025-05-20T13:33:45.034985Z",
     "shell.execute_reply": "2025-05-20T13:33:45.034360Z"
    },
    "papermill": {
     "duration": 0.028492,
     "end_time": "2025-05-20T13:33:45.036284",
     "exception": false,
     "start_time": "2025-05-20T13:33:45.007792",
     "status": "completed"
    },
    "tags": []
   },
   "outputs": [
    {
     "data": {
      "text/plain": [
       "sentiment\n",
       "Negative    22542\n",
       "Positive    20832\n",
       "Neutral     18318\n",
       "Name: count, dtype: int64"
      ]
     },
     "execution_count": 6,
     "metadata": {},
     "output_type": "execute_result"
    }
   ],
   "source": [
    "df3 = df2[df2.sentiment != \"Irrelevant\"]\n",
    "df3.sentiment.value_counts()"
   ]
  },
  {
   "cell_type": "code",
   "execution_count": 7,
   "id": "b8d1e49a",
   "metadata": {
    "execution": {
     "iopub.execute_input": "2025-05-20T13:33:45.052577Z",
     "iopub.status.busy": "2025-05-20T13:33:45.052305Z",
     "iopub.status.idle": "2025-05-20T13:33:45.068283Z",
     "shell.execute_reply": "2025-05-20T13:33:45.067398Z"
    },
    "papermill": {
     "duration": 0.025717,
     "end_time": "2025-05-20T13:33:45.069601",
     "exception": false,
     "start_time": "2025-05-20T13:33:45.043884",
     "status": "completed"
    },
    "tags": []
   },
   "outputs": [
    {
     "data": {
      "text/plain": [
       "sentiment      0\n",
       "text         571\n",
       "dtype: int64"
      ]
     },
     "execution_count": 7,
     "metadata": {},
     "output_type": "execute_result"
    }
   ],
   "source": [
    "df3.isna().sum()"
   ]
  },
  {
   "cell_type": "markdown",
   "id": "19b1e72c",
   "metadata": {
    "papermill": {
     "duration": 0.007888,
     "end_time": "2025-05-20T13:33:45.085597",
     "exception": false,
     "start_time": "2025-05-20T13:33:45.077709",
     "status": "completed"
    },
    "tags": []
   },
   "source": [
    "**Observation**\n",
    "* There are 571 null values in Text column. As the number is a small fraction compared to total counts, we are going to drop these null values"
   ]
  },
  {
   "cell_type": "code",
   "execution_count": 8,
   "id": "28a42ace",
   "metadata": {
    "execution": {
     "iopub.execute_input": "2025-05-20T13:33:45.101827Z",
     "iopub.status.busy": "2025-05-20T13:33:45.101566Z",
     "iopub.status.idle": "2025-05-20T13:33:45.127830Z",
     "shell.execute_reply": "2025-05-20T13:33:45.126925Z"
    },
    "papermill": {
     "duration": 0.036265,
     "end_time": "2025-05-20T13:33:45.129362",
     "exception": false,
     "start_time": "2025-05-20T13:33:45.093097",
     "status": "completed"
    },
    "tags": []
   },
   "outputs": [
    {
     "data": {
      "text/plain": [
       "sentiment    0\n",
       "text         0\n",
       "dtype: int64"
      ]
     },
     "execution_count": 8,
     "metadata": {},
     "output_type": "execute_result"
    }
   ],
   "source": [
    "df4 = df3.copy()\n",
    "df4.dropna(inplace=True)\n",
    "df4.isna().sum()"
   ]
  },
  {
   "cell_type": "markdown",
   "id": "0d017775",
   "metadata": {
    "papermill": {
     "duration": 0.007523,
     "end_time": "2025-05-20T13:33:45.144420",
     "exception": false,
     "start_time": "2025-05-20T13:33:45.136897",
     "status": "completed"
    },
    "tags": []
   },
   "source": [
    "# Model Building without Text Preprocessing"
   ]
  },
  {
   "cell_type": "code",
   "execution_count": 9,
   "id": "64e9fea9",
   "metadata": {
    "execution": {
     "iopub.execute_input": "2025-05-20T13:33:45.162711Z",
     "iopub.status.busy": "2025-05-20T13:33:45.161922Z",
     "iopub.status.idle": "2025-05-20T13:33:46.830665Z",
     "shell.execute_reply": "2025-05-20T13:33:46.829985Z"
    },
    "papermill": {
     "duration": 1.678749,
     "end_time": "2025-05-20T13:33:46.832121",
     "exception": false,
     "start_time": "2025-05-20T13:33:45.153372",
     "status": "completed"
    },
    "tags": []
   },
   "outputs": [],
   "source": [
    "from sklearn.model_selection import train_test_split\n",
    "from sklearn.feature_extraction.text import CountVectorizer, TfidfVectorizer\n",
    "from sklearn.naive_bayes import MultinomialNB\n",
    "from sklearn.ensemble import RandomForestClassifier\n",
    "from sklearn.neighbors import KNeighborsClassifier\n",
    "from sklearn.pipeline import Pipeline\n",
    "from sklearn.metrics import classification_report, confusion_matrix"
   ]
  },
  {
   "cell_type": "code",
   "execution_count": 10,
   "id": "3b1d3b50",
   "metadata": {
    "execution": {
     "iopub.execute_input": "2025-05-20T13:33:46.848794Z",
     "iopub.status.busy": "2025-05-20T13:33:46.848109Z",
     "iopub.status.idle": "2025-05-20T13:33:46.862138Z",
     "shell.execute_reply": "2025-05-20T13:33:46.861361Z"
    },
    "papermill": {
     "duration": 0.023584,
     "end_time": "2025-05-20T13:33:46.863530",
     "exception": false,
     "start_time": "2025-05-20T13:33:46.839946",
     "status": "completed"
    },
    "tags": []
   },
   "outputs": [
    {
     "data": {
      "text/html": [
       "<div>\n",
       "<style scoped>\n",
       "    .dataframe tbody tr th:only-of-type {\n",
       "        vertical-align: middle;\n",
       "    }\n",
       "\n",
       "    .dataframe tbody tr th {\n",
       "        vertical-align: top;\n",
       "    }\n",
       "\n",
       "    .dataframe thead th {\n",
       "        text-align: right;\n",
       "    }\n",
       "</style>\n",
       "<table border=\"1\" class=\"dataframe\">\n",
       "  <thead>\n",
       "    <tr style=\"text-align: right;\">\n",
       "      <th></th>\n",
       "      <th>sentiment</th>\n",
       "      <th>text</th>\n",
       "      <th>sentiment_num</th>\n",
       "    </tr>\n",
       "  </thead>\n",
       "  <tbody>\n",
       "    <tr>\n",
       "      <th>0</th>\n",
       "      <td>Positive</td>\n",
       "      <td>im getting on borderlands and i will murder yo...</td>\n",
       "      <td>2</td>\n",
       "    </tr>\n",
       "    <tr>\n",
       "      <th>1</th>\n",
       "      <td>Positive</td>\n",
       "      <td>I am coming to the borders and I will kill you...</td>\n",
       "      <td>2</td>\n",
       "    </tr>\n",
       "    <tr>\n",
       "      <th>2</th>\n",
       "      <td>Positive</td>\n",
       "      <td>im getting on borderlands and i will kill you ...</td>\n",
       "      <td>2</td>\n",
       "    </tr>\n",
       "    <tr>\n",
       "      <th>3</th>\n",
       "      <td>Positive</td>\n",
       "      <td>im coming on borderlands and i will murder you...</td>\n",
       "      <td>2</td>\n",
       "    </tr>\n",
       "    <tr>\n",
       "      <th>4</th>\n",
       "      <td>Positive</td>\n",
       "      <td>im getting on borderlands 2 and i will murder ...</td>\n",
       "      <td>2</td>\n",
       "    </tr>\n",
       "  </tbody>\n",
       "</table>\n",
       "</div>"
      ],
      "text/plain": [
       "  sentiment                                               text  sentiment_num\n",
       "0  Positive  im getting on borderlands and i will murder yo...              2\n",
       "1  Positive  I am coming to the borders and I will kill you...              2\n",
       "2  Positive  im getting on borderlands and i will kill you ...              2\n",
       "3  Positive  im coming on borderlands and i will murder you...              2\n",
       "4  Positive  im getting on borderlands 2 and i will murder ...              2"
      ]
     },
     "execution_count": 10,
     "metadata": {},
     "output_type": "execute_result"
    }
   ],
   "source": [
    "sentiment_numbers = {\"Neutral\": 0, \"Negative\": 1, \"Positive\": 2}\n",
    "\n",
    "df4[\"sentiment_num\"] = df4.sentiment.map(sentiment_numbers)\n",
    "df4.head()"
   ]
  },
  {
   "cell_type": "code",
   "execution_count": 11,
   "id": "33bb8b3c",
   "metadata": {
    "execution": {
     "iopub.execute_input": "2025-05-20T13:33:46.879616Z",
     "iopub.status.busy": "2025-05-20T13:33:46.879356Z",
     "iopub.status.idle": "2025-05-20T13:33:46.889293Z",
     "shell.execute_reply": "2025-05-20T13:33:46.888650Z"
    },
    "papermill": {
     "duration": 0.019329,
     "end_time": "2025-05-20T13:33:46.890470",
     "exception": false,
     "start_time": "2025-05-20T13:33:46.871141",
     "status": "completed"
    },
    "tags": []
   },
   "outputs": [
    {
     "data": {
      "text/plain": [
       "sentiment\n",
       "Negative    22358\n",
       "Positive    20655\n",
       "Neutral     18108\n",
       "Name: count, dtype: int64"
      ]
     },
     "execution_count": 11,
     "metadata": {},
     "output_type": "execute_result"
    }
   ],
   "source": [
    "df4.sentiment.value_counts()"
   ]
  },
  {
   "cell_type": "code",
   "execution_count": 12,
   "id": "c63bb150",
   "metadata": {
    "execution": {
     "iopub.execute_input": "2025-05-20T13:33:46.907805Z",
     "iopub.status.busy": "2025-05-20T13:33:46.907519Z",
     "iopub.status.idle": "2025-05-20T13:33:46.943774Z",
     "shell.execute_reply": "2025-05-20T13:33:46.942808Z"
    },
    "papermill": {
     "duration": 0.046643,
     "end_time": "2025-05-20T13:33:46.945206",
     "exception": false,
     "start_time": "2025-05-20T13:33:46.898563",
     "status": "completed"
    },
    "tags": []
   },
   "outputs": [
    {
     "name": "stdout",
     "output_type": "stream",
     "text": [
      "(48896,) (48896,)\n",
      "(12225,) (12225,)\n"
     ]
    }
   ],
   "source": [
    "#splitting the dataset\n",
    "X_train, X_test, y_train, y_test = train_test_split(df4.text, df4.sentiment_num, test_size=0.2, random_state=42, stratify=df4.sentiment_num)\n",
    "print(X_train.shape, y_train.shape)\n",
    "print(X_test.shape, y_test.shape)"
   ]
  },
  {
   "cell_type": "code",
   "execution_count": 13,
   "id": "3216097f",
   "metadata": {
    "execution": {
     "iopub.execute_input": "2025-05-20T13:33:46.964331Z",
     "iopub.status.busy": "2025-05-20T13:33:46.963531Z",
     "iopub.status.idle": "2025-05-20T13:34:49.379993Z",
     "shell.execute_reply": "2025-05-20T13:34:49.379224Z"
    },
    "papermill": {
     "duration": 62.490282,
     "end_time": "2025-05-20T13:34:49.444821",
     "exception": false,
     "start_time": "2025-05-20T13:33:46.954539",
     "status": "completed"
    },
    "tags": []
   },
   "outputs": [
    {
     "name": "stdout",
     "output_type": "stream",
     "text": [
      "              precision    recall  f1-score   support\n",
      "\n",
      "           0       0.94      0.92      0.93      3622\n",
      "           1       0.94      0.95      0.94      4472\n",
      "           2       0.93      0.94      0.94      4131\n",
      "\n",
      "    accuracy                           0.94     12225\n",
      "   macro avg       0.94      0.93      0.94     12225\n",
      "weighted avg       0.94      0.94      0.94     12225\n",
      "\n"
     ]
    }
   ],
   "source": [
    "#Random Forest with CountVectorizer unigram\n",
    "\n",
    "clf_1 = Pipeline([\n",
    "    (\"vectorizer\", CountVectorizer(ngram_range=(1, 1))),\n",
    "    (\"classifier\", RandomForestClassifier(n_estimators=100, criterion=\"entropy\", n_jobs=-1))\n",
    "])\n",
    "\n",
    "clf_1.fit(X_train, y_train)\n",
    "\n",
    "y_pred = clf_1.predict(X_test)\n",
    "print(classification_report(y_test, y_pred))"
   ]
  },
  {
   "cell_type": "code",
   "execution_count": 14,
   "id": "90ec99f4",
   "metadata": {
    "execution": {
     "iopub.execute_input": "2025-05-20T13:34:49.462002Z",
     "iopub.status.busy": "2025-05-20T13:34:49.461487Z",
     "iopub.status.idle": "2025-05-20T13:34:50.216148Z",
     "shell.execute_reply": "2025-05-20T13:34:50.215255Z"
    },
    "papermill": {
     "duration": 0.764539,
     "end_time": "2025-05-20T13:34:50.217502",
     "exception": false,
     "start_time": "2025-05-20T13:34:49.452963",
     "status": "completed"
    },
    "tags": []
   },
   "outputs": [
    {
     "data": {
      "image/png": "[encoded data removed]",
      "text/plain": [
       "<Figure size 640x480 with 2 Axes>"
      ]
     },
     "metadata": {},
     "output_type": "display_data"
    }
   ],
   "source": [
    "import matplotlib.pyplot as plt\n",
    "import seaborn as sns\n",
    "cm = confusion_matrix(y_test, y_pred)\n",
    "sns.heatmap(cm, annot=True, fmt=\"d\")\n",
    "plt.show();"
   ]
  },
  {
   "cell_type": "code",
   "execution_count": 15,
   "id": "95bedc66",
   "metadata": {
    "execution": {
     "iopub.execute_input": "2025-05-20T13:34:50.237166Z",
     "iopub.status.busy": "2025-05-20T13:34:50.236699Z",
     "iopub.status.idle": "2025-05-20T13:39:42.813406Z",
     "shell.execute_reply": "2025-05-20T13:39:42.812539Z"
    },
    "papermill": {
     "duration": 292.598909,
     "end_time": "2025-05-20T13:39:42.825412",
     "exception": false,
     "start_time": "2025-05-20T13:34:50.226503",
     "status": "completed"
    },
    "tags": []
   },
   "outputs": [
    {
     "name": "stdout",
     "output_type": "stream",
     "text": [
      "              precision    recall  f1-score   support\n",
      "\n",
      "           0       0.94      0.91      0.92      3622\n",
      "           1       0.94      0.95      0.94      4472\n",
      "           2       0.93      0.94      0.94      4131\n",
      "\n",
      "    accuracy                           0.93     12225\n",
      "   macro avg       0.93      0.93      0.93     12225\n",
      "weighted avg       0.93      0.93      0.93     12225\n",
      "\n"
     ]
    },
    {
     "data": {
      "image/png": "[encoded data removed]",
      "text/plain": [
       "<Figure size 640x480 with 2 Axes>"
      ]
     },
     "metadata": {},
     "output_type": "display_data"
    }
   ],
   "source": [
    "#Random Forest with CountVectorizer unigram & bigrams\n",
    "\n",
    "clf_2 = Pipeline([\n",
    "    (\"vectorizer\", CountVectorizer(ngram_range=(1, 2))),\n",
    "    (\"classifier\", RandomForestClassifier(n_estimators=100, criterion=\"entropy\", n_jobs=-1))\n",
    "])\n",
    "\n",
    "clf_2.fit(X_train, y_train)\n",
    "\n",
    "y_pred_2 = clf_2.predict(X_test)\n",
    "print(classification_report(y_test, y_pred_2))\n",
    "\n",
    "cm2 = confusion_matrix(y_test, y_pred_2)\n",
    "sns.heatmap(cm2, annot=True, fmt=\"d\")\n",
    "plt.show();"
   ]
  },
  {
   "cell_type": "code",
   "execution_count": 16,
   "id": "2193b3e6",
   "metadata": {
    "execution": {
     "iopub.execute_input": "2025-05-20T13:39:42.844572Z",
     "iopub.status.busy": "2025-05-20T13:39:42.844320Z",
     "iopub.status.idle": "2025-05-20T13:40:41.203243Z",
     "shell.execute_reply": "2025-05-20T13:40:41.202426Z"
    },
    "papermill": {
     "duration": 58.380627,
     "end_time": "2025-05-20T13:40:41.215490",
     "exception": false,
     "start_time": "2025-05-20T13:39:42.834863",
     "status": "completed"
    },
    "tags": []
   },
   "outputs": [
    {
     "name": "stdout",
     "output_type": "stream",
     "text": [
      "              precision    recall  f1-score   support\n",
      "\n",
      "           0       0.94      0.92      0.93      3622\n",
      "           1       0.93      0.95      0.94      4472\n",
      "           2       0.94      0.94      0.94      4131\n",
      "\n",
      "    accuracy                           0.94     12225\n",
      "   macro avg       0.94      0.93      0.94     12225\n",
      "weighted avg       0.94      0.94      0.94     12225\n",
      "\n"
     ]
    },
    {
     "data": {
      "image/png": "[encoded data removed]",
      "text/plain": [
       "<Figure size 640x480 with 2 Axes>"
      ]
     },
     "metadata": {},
     "output_type": "display_data"
    }
   ],
   "source": [
    "#Random Forest with TfIdfVectorizer\n",
    "\n",
    "clf_3 = Pipeline([\n",
    "    (\"vectorizer\", TfidfVectorizer()),\n",
    "    (\"classifier\", RandomForestClassifier(n_estimators=100, criterion=\"entropy\", n_jobs=-1))\n",
    "])\n",
    "\n",
    "clf_3.fit(X_train, y_train)\n",
    "\n",
    "y_pred_3 = clf_3.predict(X_test)\n",
    "print(classification_report(y_test, y_pred_3))\n",
    "\n",
    "cm3 = confusion_matrix(y_test, y_pred_3)\n",
    "sns.heatmap(cm3, annot=True, fmt=\"d\")\n",
    "plt.show();"
   ]
  },
  {
   "cell_type": "code",
   "execution_count": 17,
   "id": "b39d8565",
   "metadata": {
    "execution": {
     "iopub.execute_input": "2025-05-20T13:40:41.235766Z",
     "iopub.status.busy": "2025-05-20T13:40:41.235194Z",
     "iopub.status.idle": "2025-05-20T13:40:42.436856Z",
     "shell.execute_reply": "2025-05-20T13:40:42.436072Z"
    },
    "papermill": {
     "duration": 1.213463,
     "end_time": "2025-05-20T13:40:42.438327",
     "exception": false,
     "start_time": "2025-05-20T13:40:41.224864",
     "status": "completed"
    },
    "tags": []
   },
   "outputs": [
    {
     "name": "stdout",
     "output_type": "stream",
     "text": [
      "              precision    recall  f1-score   support\n",
      "\n",
      "           0       0.87      0.68      0.76      3622\n",
      "           1       0.78      0.87      0.82      4472\n",
      "           2       0.79      0.83      0.81      4131\n",
      "\n",
      "    accuracy                           0.80     12225\n",
      "   macro avg       0.81      0.80      0.80     12225\n",
      "weighted avg       0.81      0.80      0.80     12225\n",
      "\n"
     ]
    },
    {
     "data": {
      "image/png": "[encoded data removed]",
      "text/plain": [
       "<Figure size 640x480 with 2 Axes>"
      ]
     },
     "metadata": {},
     "output_type": "display_data"
    }
   ],
   "source": [
    "#MultinomialNB with CountVectorizer unigram\n",
    "\n",
    "clf_4 = Pipeline([\n",
    "    (\"vectorizer\", CountVectorizer(ngram_range=(1, 1))),\n",
    "    (\"classifier\", MultinomialNB())\n",
    "])\n",
    "\n",
    "clf_4.fit(X_train, y_train)\n",
    "\n",
    "y_pred_4 = clf_4.predict(X_test)\n",
    "print(classification_report(y_test, y_pred_4))\n",
    "\n",
    "cm4 = confusion_matrix(y_test, y_pred_4)\n",
    "sns.heatmap(cm4, annot=True, fmt=\"d\")\n",
    "plt.show();"
   ]
  },
  {
   "cell_type": "code",
   "execution_count": 18,
   "id": "48398e91",
   "metadata": {
    "execution": {
     "iopub.execute_input": "2025-05-20T13:40:42.459262Z",
     "iopub.status.busy": "2025-05-20T13:40:42.458456Z",
     "iopub.status.idle": "2025-05-20T13:40:45.469647Z",
     "shell.execute_reply": "2025-05-20T13:40:45.468786Z"
    },
    "papermill": {
     "duration": 3.02277,
     "end_time": "2025-05-20T13:40:45.470919",
     "exception": false,
     "start_time": "2025-05-20T13:40:42.448149",
     "status": "completed"
    },
    "tags": []
   },
   "outputs": [
    {
     "name": "stdout",
     "output_type": "stream",
     "text": [
      "              precision    recall  f1-score   support\n",
      "\n",
      "           0       0.94      0.86      0.90      3622\n",
      "           1       0.88      0.95      0.91      4472\n",
      "           2       0.91      0.92      0.91      4131\n",
      "\n",
      "    accuracy                           0.91     12225\n",
      "   macro avg       0.91      0.91      0.91     12225\n",
      "weighted avg       0.91      0.91      0.91     12225\n",
      "\n"
     ]
    },
    {
     "data": {
      "image/png": "[encoded data removed]",
      "text/plain": [
       "<Figure size 640x480 with 2 Axes>"
      ]
     },
     "metadata": {},
     "output_type": "display_data"
    }
   ],
   "source": [
    "#MultinomialNB with CountVectorizer unigram and bigrams\n",
    "\n",
    "clf_5 = Pipeline([\n",
    "    (\"vectorizer\", CountVectorizer(ngram_range=(1, 2))),\n",
    "    (\"classifier\", MultinomialNB())\n",
    "])\n",
    "\n",
    "clf_5.fit(X_train, y_train)\n",
    "\n",
    "y_pred_5 = clf_5.predict(X_test)\n",
    "print(classification_report(y_test, y_pred_5))\n",
    "\n",
    "cm5 = confusion_matrix(y_test, y_pred_5)\n",
    "sns.heatmap(cm5, annot=True, fmt=\"d\")\n",
    "plt.show();"
   ]
  },
  {
   "cell_type": "code",
   "execution_count": 19,
   "id": "832ce464",
   "metadata": {
    "execution": {
     "iopub.execute_input": "2025-05-20T13:40:45.492368Z",
     "iopub.status.busy": "2025-05-20T13:40:45.492079Z",
     "iopub.status.idle": "2025-05-20T13:40:46.970279Z",
     "shell.execute_reply": "2025-05-20T13:40:46.969357Z"
    },
    "papermill": {
     "duration": 1.490586,
     "end_time": "2025-05-20T13:40:46.971647",
     "exception": false,
     "start_time": "2025-05-20T13:40:45.481061",
     "status": "completed"
    },
    "tags": []
   },
   "outputs": [
    {
     "name": "stdout",
     "output_type": "stream",
     "text": [
      "              precision    recall  f1-score   support\n",
      "\n",
      "           0       0.94      0.86      0.90      3622\n",
      "           1       0.88      0.95      0.91      4472\n",
      "           2       0.91      0.92      0.91      4131\n",
      "\n",
      "    accuracy                           0.91     12225\n",
      "   macro avg       0.91      0.91      0.91     12225\n",
      "weighted avg       0.91      0.91      0.91     12225\n",
      "\n"
     ]
    },
    {
     "data": {
      "image/png": "[encoded data removed]",
      "text/plain": [
       "<Figure size 640x480 with 2 Axes>"
      ]
     },
     "metadata": {},
     "output_type": "display_data"
    }
   ],
   "source": [
    "#MultinomialNB with TfIdfVectorizer\n",
    "\n",
    "clf_6 = Pipeline([\n",
    "    (\"vectorizer\", TfidfVectorizer()),\n",
    "    (\"classifier\", MultinomialNB())\n",
    "])\n",
    "\n",
    "clf_6.fit(X_train, y_train)\n",
    "\n",
    "y_pred_6 = clf_5.predict(X_test)\n",
    "print(classification_report(y_test, y_pred_6))\n",
    "\n",
    "cm6 = confusion_matrix(y_test, y_pred_6)\n",
    "sns.heatmap(cm6, annot=True, fmt=\"d\")\n",
    "plt.show();"
   ]
  },
  {
   "cell_type": "code",
   "execution_count": 20,
   "id": "c33b5232",
   "metadata": {
    "execution": {
     "iopub.execute_input": "2025-05-20T13:40:46.996293Z",
     "iopub.status.busy": "2025-05-20T13:40:46.995662Z",
     "iopub.status.idle": "2025-05-20T13:40:48.233431Z",
     "shell.execute_reply": "2025-05-20T13:40:48.232542Z"
    },
    "papermill": {
     "duration": 1.251541,
     "end_time": "2025-05-20T13:40:48.234689",
     "exception": false,
     "start_time": "2025-05-20T13:40:46.983148",
     "status": "completed"
    },
    "tags": []
   },
   "outputs": [
    {
     "name": "stdout",
     "output_type": "stream",
     "text": [
      "              precision    recall  f1-score   support\n",
      "\n",
      "           0       0.91      0.64      0.75      3622\n",
      "           1       0.75      0.91      0.82      4472\n",
      "           2       0.80      0.83      0.81      4131\n",
      "\n",
      "    accuracy                           0.80     12225\n",
      "   macro avg       0.82      0.79      0.79     12225\n",
      "weighted avg       0.81      0.80      0.80     12225\n",
      "\n"
     ]
    },
    {
     "data": {
      "image/png": "[encoded data removed]",
      "text/plain": [
       "<Figure size 640x480 with 2 Axes>"
      ]
     },
     "metadata": {},
     "output_type": "display_data"
    }
   ],
   "source": [
    "#KNN with CountVectorizer unigram\n",
    "\n",
    "clf_7 = Pipeline([\n",
    "    (\"vectorizer\", CountVectorizer(ngram_range=(1, 1))),\n",
    "    (\"classifier\", KNeighborsClassifier(n_neighbors=5, n_jobs=-1))\n",
    "])\n",
    "\n",
    "clf_7.fit(X_train, y_train)\n",
    "\n",
    "y_pred_7 = clf_6.predict(X_test)\n",
    "print(classification_report(y_test, y_pred_7))\n",
    "\n",
    "cm7 = confusion_matrix(y_test, y_pred_7)\n",
    "sns.heatmap(cm7, annot=True, fmt=\"d\")\n",
    "plt.show();"
   ]
  },
  {
   "cell_type": "code",
   "execution_count": 21,
   "id": "3c567d56",
   "metadata": {
    "execution": {
     "iopub.execute_input": "2025-05-20T13:40:48.257336Z",
     "iopub.status.busy": "2025-05-20T13:40:48.257066Z",
     "iopub.status.idle": "2025-05-20T13:41:17.622319Z",
     "shell.execute_reply": "2025-05-20T13:41:17.621536Z"
    },
    "papermill": {
     "duration": 29.378595,
     "end_time": "2025-05-20T13:41:17.624038",
     "exception": false,
     "start_time": "2025-05-20T13:40:48.245443",
     "status": "completed"
    },
    "tags": []
   },
   "outputs": [
    {
     "name": "stdout",
     "output_type": "stream",
     "text": [
      "              precision    recall  f1-score   support\n",
      "\n",
      "           0       0.79      0.86      0.82      3622\n",
      "           1       0.85      0.83      0.84      4472\n",
      "           2       0.86      0.81      0.84      4131\n",
      "\n",
      "    accuracy                           0.83     12225\n",
      "   macro avg       0.83      0.83      0.83     12225\n",
      "weighted avg       0.84      0.83      0.83     12225\n",
      "\n"
     ]
    },
    {
     "data": {
      "image/png": "[encoded data removed]",
      "text/plain": [
       "<Figure size 640x480 with 2 Axes>"
      ]
     },
     "metadata": {},
     "output_type": "display_data"
    }
   ],
   "source": [
    "#KNN with CountVectorizer unigram and bigrams\n",
    "\n",
    "clf_8 = Pipeline([\n",
    "    (\"vectorizer\", CountVectorizer(ngram_range=(1, 2))),\n",
    "    (\"classifier\", KNeighborsClassifier(n_neighbors=5, n_jobs=-1))\n",
    "])\n",
    "\n",
    "clf_8.fit(X_train, y_train)\n",
    "\n",
    "y_pred_8 = clf_8.predict(X_test)\n",
    "print(classification_report(y_test, y_pred_8))\n",
    "\n",
    "cm8 = confusion_matrix(y_test, y_pred_8)\n",
    "sns.heatmap(cm8, annot=True, fmt=\"d\")\n",
    "plt.show();"
   ]
  },
  {
   "cell_type": "markdown",
   "id": "487b344c",
   "metadata": {
    "papermill": {
     "duration": 0.011368,
     "end_time": "2025-05-20T13:41:17.648146",
     "exception": false,
     "start_time": "2025-05-20T13:41:17.636778",
     "status": "completed"
    },
    "tags": []
   },
   "source": [
    "# Model Building with Text Preprocessing"
   ]
  },
  {
   "cell_type": "code",
   "execution_count": 22,
   "id": "bab2bd18",
   "metadata": {
    "execution": {
     "iopub.execute_input": "2025-05-20T13:41:17.672327Z",
     "iopub.status.busy": "2025-05-20T13:41:17.671980Z",
     "iopub.status.idle": "2025-05-20T13:41:36.070170Z",
     "shell.execute_reply": "2025-05-20T13:41:36.069097Z"
    },
    "papermill": {
     "duration": 18.412243,
     "end_time": "2025-05-20T13:41:36.071822",
     "exception": false,
     "start_time": "2025-05-20T13:41:17.659579",
     "status": "completed"
    },
    "tags": []
   },
   "outputs": [
    {
     "name": "stdout",
     "output_type": "stream",
     "text": [
      "Collecting en-core-web-md==3.8.0\r\n",
      "  Downloading https://github.com/explosion/spacy-models/releases/download/en_core_web_md-3.8.0/en_core_web_md-3.8.0-py3-none-any.whl (33.5 MB)\r\n",
      "\u001b[2K     \u001b[90m━━━━━━━━━━━━━━━━━━━━━━━━━━━━━━━━━━━━━━━━\u001b[0m \u001b[32m33.5/33.5 MB\u001b[0m \u001b[31m50.9 MB/s\u001b[0m eta \u001b[36m0:00:00\u001b[0m\r\n",
      "\u001b[?25hInstalling collected packages: en-core-web-md\r\n",
      "Successfully installed en-core-web-md-3.8.0\r\n",
      "\u001b[38;5;2m✔ Download and installation successful\u001b[0m\r\n",
      "You can now load the package via spacy.load('en_core_web_md')\r\n",
      "\u001b[38;5;3m⚠ Restart to reload dependencies\u001b[0m\r\n",
      "If you are in a Jupyter or Colab notebook, you may need to restart Python in\r\n",
      "order to load all the package's dependencies. You can do this by selecting the\r\n",
      "'Restart kernel' or 'Restart runtime' option.\r\n"
     ]
    }
   ],
   "source": [
    "import spacy\n",
    "!python -m spacy download en_core_web_md"
   ]
  },
  {
   "cell_type": "code",
   "execution_count": 23,
   "id": "f0bcf9e8",
   "metadata": {
    "execution": {
     "iopub.execute_input": "2025-05-20T13:41:36.099716Z",
     "iopub.status.busy": "2025-05-20T13:41:36.098722Z",
     "iopub.status.idle": "2025-05-20T13:41:38.026135Z",
     "shell.execute_reply": "2025-05-20T13:41:38.025214Z"
    },
    "papermill": {
     "duration": 1.942962,
     "end_time": "2025-05-20T13:41:38.027773",
     "exception": false,
     "start_time": "2025-05-20T13:41:36.084811",
     "status": "completed"
    },
    "tags": []
   },
   "outputs": [],
   "source": [
    "from spacy.lang.en.stop_words import STOP_WORDS\n",
    "nlp = spacy.load(\"en_core_web_md\")\n",
    "\n",
    "def preprocess(text):\n",
    "  doc = nlp(text)\n",
    "  tokens = []\n",
    "  for token in doc:\n",
    "    if token.is_stop or token.is_punct:\n",
    "      continue\n",
    "    else:\n",
    "      tokens.append(token.lemma_)\n",
    "  return \" \".join(tokens)"
   ]
  },
  {
   "cell_type": "code",
   "execution_count": 24,
   "id": "7fd150e5",
   "metadata": {
    "execution": {
     "iopub.execute_input": "2025-05-20T13:41:38.054216Z",
     "iopub.status.busy": "2025-05-20T13:41:38.053643Z",
     "iopub.status.idle": "2025-05-20T13:50:31.433027Z",
     "shell.execute_reply": "2025-05-20T13:50:31.432098Z"
    },
    "papermill": {
     "duration": 533.414865,
     "end_time": "2025-05-20T13:50:31.455593",
     "exception": false,
     "start_time": "2025-05-20T13:41:38.040728",
     "status": "completed"
    },
    "tags": []
   },
   "outputs": [
    {
     "data": {
      "text/html": [
       "<div>\n",
       "<style scoped>\n",
       "    .dataframe tbody tr th:only-of-type {\n",
       "        vertical-align: middle;\n",
       "    }\n",
       "\n",
       "    .dataframe tbody tr th {\n",
       "        vertical-align: top;\n",
       "    }\n",
       "\n",
       "    .dataframe thead th {\n",
       "        text-align: right;\n",
       "    }\n",
       "</style>\n",
       "<table border=\"1\" class=\"dataframe\">\n",
       "  <thead>\n",
       "    <tr style=\"text-align: right;\">\n",
       "      <th></th>\n",
       "      <th>sentiment</th>\n",
       "      <th>text</th>\n",
       "      <th>sentiment_num</th>\n",
       "      <th>text_preprocessed</th>\n",
       "    </tr>\n",
       "  </thead>\n",
       "  <tbody>\n",
       "    <tr>\n",
       "      <th>0</th>\n",
       "      <td>Positive</td>\n",
       "      <td>im getting on borderlands and i will murder yo...</td>\n",
       "      <td>2</td>\n",
       "      <td>m get borderland murder</td>\n",
       "    </tr>\n",
       "    <tr>\n",
       "      <th>1</th>\n",
       "      <td>Positive</td>\n",
       "      <td>I am coming to the borders and I will kill you...</td>\n",
       "      <td>2</td>\n",
       "      <td>come border kill</td>\n",
       "    </tr>\n",
       "    <tr>\n",
       "      <th>2</th>\n",
       "      <td>Positive</td>\n",
       "      <td>im getting on borderlands and i will kill you ...</td>\n",
       "      <td>2</td>\n",
       "      <td>m get borderland kill</td>\n",
       "    </tr>\n",
       "    <tr>\n",
       "      <th>3</th>\n",
       "      <td>Positive</td>\n",
       "      <td>im coming on borderlands and i will murder you...</td>\n",
       "      <td>2</td>\n",
       "      <td>m come borderland murder</td>\n",
       "    </tr>\n",
       "    <tr>\n",
       "      <th>4</th>\n",
       "      <td>Positive</td>\n",
       "      <td>im getting on borderlands 2 and i will murder ...</td>\n",
       "      <td>2</td>\n",
       "      <td>m get borderland 2 murder</td>\n",
       "    </tr>\n",
       "  </tbody>\n",
       "</table>\n",
       "</div>"
      ],
      "text/plain": [
       "  sentiment                                               text  sentiment_num  \\\n",
       "0  Positive  im getting on borderlands and i will murder yo...              2   \n",
       "1  Positive  I am coming to the borders and I will kill you...              2   \n",
       "2  Positive  im getting on borderlands and i will kill you ...              2   \n",
       "3  Positive  im coming on borderlands and i will murder you...              2   \n",
       "4  Positive  im getting on borderlands 2 and i will murder ...              2   \n",
       "\n",
       "           text_preprocessed  \n",
       "0    m get borderland murder  \n",
       "1           come border kill  \n",
       "2      m get borderland kill  \n",
       "3   m come borderland murder  \n",
       "4  m get borderland 2 murder  "
      ]
     },
     "execution_count": 24,
     "metadata": {},
     "output_type": "execute_result"
    }
   ],
   "source": [
    "df4[\"text_preprocessed\"] = df4.text.apply(preprocess)\n",
    "df4.head()"
   ]
  },
  {
   "cell_type": "code",
   "execution_count": 25,
   "id": "1a78e21c",
   "metadata": {
    "execution": {
     "iopub.execute_input": "2025-05-20T13:50:31.482987Z",
     "iopub.status.busy": "2025-05-20T13:50:31.482691Z",
     "iopub.status.idle": "2025-05-20T13:50:31.513720Z",
     "shell.execute_reply": "2025-05-20T13:50:31.512770Z"
    },
    "papermill": {
     "duration": 0.046965,
     "end_time": "2025-05-20T13:50:31.515399",
     "exception": false,
     "start_time": "2025-05-20T13:50:31.468434",
     "status": "completed"
    },
    "tags": []
   },
   "outputs": [
    {
     "name": "stdout",
     "output_type": "stream",
     "text": [
      "(48896,) (48896,)\n",
      "(12225,) (12225,)\n"
     ]
    }
   ],
   "source": [
    "X_train_pr, X_test_pr, y_train_pr, y_test_pr = train_test_split(df4.text_preprocessed, df4.sentiment_num, test_size=0.2, random_state=42, stratify=df4.sentiment_num)\n",
    "print(X_train_pr.shape, y_train_pr.shape)\n",
    "print(X_test_pr.shape, y_test_pr.shape)"
   ]
  },
  {
   "cell_type": "code",
   "execution_count": 26,
   "id": "ccc97664",
   "metadata": {
    "execution": {
     "iopub.execute_input": "2025-05-20T13:50:31.548157Z",
     "iopub.status.busy": "2025-05-20T13:50:31.547397Z",
     "iopub.status.idle": "2025-05-20T13:51:25.622017Z",
     "shell.execute_reply": "2025-05-20T13:51:25.621280Z"
    },
    "papermill": {
     "duration": 54.102117,
     "end_time": "2025-05-20T13:51:25.636151",
     "exception": false,
     "start_time": "2025-05-20T13:50:31.534034",
     "status": "completed"
    },
    "tags": []
   },
   "outputs": [
    {
     "name": "stdout",
     "output_type": "stream",
     "text": [
      "              precision    recall  f1-score   support\n",
      "\n",
      "           0       0.69      0.67      0.68      3622\n",
      "           1       0.76      0.71      0.73      4472\n",
      "           2       0.69      0.76      0.72      4131\n",
      "\n",
      "    accuracy                           0.71     12225\n",
      "   macro avg       0.71      0.71      0.71     12225\n",
      "weighted avg       0.72      0.71      0.71     12225\n",
      "\n"
     ]
    },
    {
     "data": {
      "image/png": "[encoded data removed]",
      "text/plain": [
       "<Figure size 640x480 with 2 Axes>"
      ]
     },
     "metadata": {},
     "output_type": "display_data"
    }
   ],
   "source": [
    "#Random Forest with CountVectorizer unigram\n",
    "\n",
    "clf_9 = Pipeline([\n",
    "    (\"vectorizer\", CountVectorizer(ngram_range=(1, 1))),\n",
    "    (\"classifier\", RandomForestClassifier(n_estimators=100, criterion=\"entropy\", n_jobs=-1))\n",
    "])\n",
    "\n",
    "clf_9.fit(X_train_pr, y_train_pr)\n",
    "\n",
    "y_pred_9 = clf_1.predict(X_test_pr)\n",
    "print(classification_report(y_test_pr, y_pred_9))\n",
    "\n",
    "cm9 = confusion_matrix(y_test, y_pred_9)\n",
    "sns.heatmap(cm9, annot=True, fmt=\"d\")\n",
    "plt.show();"
   ]
  },
  {
   "cell_type": "code",
   "execution_count": 27,
   "id": "24481cc6",
   "metadata": {
    "execution": {
     "iopub.execute_input": "2025-05-20T13:51:25.663612Z",
     "iopub.status.busy": "2025-05-20T13:51:25.662926Z",
     "iopub.status.idle": "2025-05-20T13:55:50.649276Z",
     "shell.execute_reply": "2025-05-20T13:55:50.648409Z"
    },
    "papermill": {
     "duration": 265.014507,
     "end_time": "2025-05-20T13:55:50.663494",
     "exception": false,
     "start_time": "2025-05-20T13:51:25.648987",
     "status": "completed"
    },
    "tags": []
   },
   "outputs": [
    {
     "name": "stdout",
     "output_type": "stream",
     "text": [
      "              precision    recall  f1-score   support\n",
      "\n",
      "           0       0.40      0.49      0.44      3622\n",
      "           1       0.51      0.46      0.48      4472\n",
      "           2       0.50      0.45      0.47      4131\n",
      "\n",
      "    accuracy                           0.47     12225\n",
      "   macro avg       0.47      0.47      0.47     12225\n",
      "weighted avg       0.47      0.47      0.47     12225\n",
      "\n"
     ]
    },
    {
     "data": {
      "image/png": "[encoded data removed]",
      "text/plain": [
       "<Figure size 640x480 with 2 Axes>"
      ]
     },
     "metadata": {},
     "output_type": "display_data"
    }
   ],
   "source": [
    "#Random Forest with CountVectorizer unigram & bigrams\n",
    "\n",
    "clf_10 = Pipeline([\n",
    "    (\"vectorizer\", CountVectorizer(ngram_range=(1, 2))),\n",
    "    (\"classifier\", RandomForestClassifier(n_estimators=100, criterion=\"entropy\", n_jobs=-1))\n",
    "])\n",
    "\n",
    "clf_10.fit(X_train_pr, y_train_pr)\n",
    "\n",
    "y_pred_10 = clf_8.predict(X_test_pr)\n",
    "print(classification_report(y_test_pr, y_pred_10))\n",
    "\n",
    "cm10 = confusion_matrix(y_test, y_pred_9)\n",
    "sns.heatmap(cm10, annot=True, fmt=\"d\")\n",
    "plt.show();"
   ]
  },
  {
   "cell_type": "code",
   "execution_count": 28,
   "id": "94325c38",
   "metadata": {
    "execution": {
     "iopub.execute_input": "2025-05-20T13:55:50.692214Z",
     "iopub.status.busy": "2025-05-20T13:55:50.691577Z",
     "iopub.status.idle": "2025-05-20T13:56:42.253378Z",
     "shell.execute_reply": "2025-05-20T13:56:42.252527Z"
    },
    "papermill": {
     "duration": 51.590702,
     "end_time": "2025-05-20T13:56:42.267642",
     "exception": false,
     "start_time": "2025-05-20T13:55:50.676940",
     "status": "completed"
    },
    "tags": []
   },
   "outputs": [
    {
     "name": "stdout",
     "output_type": "stream",
     "text": [
      "              precision    recall  f1-score   support\n",
      "\n",
      "           0       0.95      0.89      0.92      3622\n",
      "           1       0.94      0.93      0.94      4472\n",
      "           2       0.89      0.95      0.92      4131\n",
      "\n",
      "    accuracy                           0.92     12225\n",
      "   macro avg       0.93      0.92      0.92     12225\n",
      "weighted avg       0.93      0.92      0.92     12225\n",
      "\n"
     ]
    },
    {
     "data": {
      "image/png": "[encoded data removed]",
      "text/plain": [
       "<Figure size 640x480 with 2 Axes>"
      ]
     },
     "metadata": {},
     "output_type": "display_data"
    }
   ],
   "source": [
    "#Random Forest with TfIdfVectorizer\n",
    "\n",
    "clf_11 = Pipeline([\n",
    "    (\"vectorizer\", TfidfVectorizer()),\n",
    "    (\"classifier\", RandomForestClassifier(n_estimators=100, criterion=\"entropy\", n_jobs=-1))\n",
    "])\n",
    "\n",
    "clf_11.fit(X_train_pr, y_train_pr)\n",
    "\n",
    "y_pred_11 = clf_9.predict(X_test_pr)\n",
    "print(classification_report(y_test_pr, y_pred_11))\n",
    "\n",
    "cm11 = confusion_matrix(y_test, y_pred_11)\n",
    "sns.heatmap(cm11, annot=True, fmt=\"d\")\n",
    "plt.show();"
   ]
  },
  {
   "cell_type": "code",
   "execution_count": 29,
   "id": "838de9d2",
   "metadata": {
    "execution": {
     "iopub.execute_input": "2025-05-20T13:56:42.297033Z",
     "iopub.status.busy": "2025-05-20T13:56:42.296543Z",
     "iopub.status.idle": "2025-05-20T13:56:43.156264Z",
     "shell.execute_reply": "2025-05-20T13:56:43.155520Z"
    },
    "papermill": {
     "duration": 0.875769,
     "end_time": "2025-05-20T13:56:43.157493",
     "exception": false,
     "start_time": "2025-05-20T13:56:42.281724",
     "status": "completed"
    },
    "tags": []
   },
   "outputs": [
    {
     "name": "stdout",
     "output_type": "stream",
     "text": [
      "              precision    recall  f1-score   support\n",
      "\n",
      "           0       0.86      0.68      0.76      3622\n",
      "           1       0.76      0.87      0.81      4472\n",
      "           2       0.78      0.80      0.79      4131\n",
      "\n",
      "    accuracy                           0.79     12225\n",
      "   macro avg       0.80      0.78      0.79     12225\n",
      "weighted avg       0.80      0.79      0.79     12225\n",
      "\n"
     ]
    },
    {
     "data": {
      "image/png": "[encoded data removed]",
      "text/plain": [
       "<Figure size 640x480 with 2 Axes>"
      ]
     },
     "metadata": {},
     "output_type": "display_data"
    }
   ],
   "source": [
    "#MultinomialNB with CountVectorizer unigram\n",
    "\n",
    "clf_12 = Pipeline([\n",
    "    (\"vectorizer\", CountVectorizer(ngram_range=(1, 1))),\n",
    "    (\"classifier\", MultinomialNB())\n",
    "])\n",
    "\n",
    "clf_12.fit(X_train_pr, y_train_pr)\n",
    "\n",
    "y_pred_12 = clf_12.predict(X_test_pr)\n",
    "print(classification_report(y_test_pr, y_pred_12))\n",
    "\n",
    "cm12 = confusion_matrix(y_test, y_pred_12)\n",
    "sns.heatmap(cm12, annot=True, fmt=\"d\")\n",
    "plt.show();"
   ]
  },
  {
   "cell_type": "code",
   "execution_count": 30,
   "id": "e4b57af5",
   "metadata": {
    "execution": {
     "iopub.execute_input": "2025-05-20T13:56:43.188510Z",
     "iopub.status.busy": "2025-05-20T13:56:43.188250Z",
     "iopub.status.idle": "2025-05-20T13:56:45.203448Z",
     "shell.execute_reply": "2025-05-20T13:56:45.202648Z"
    },
    "papermill": {
     "duration": 2.031992,
     "end_time": "2025-05-20T13:56:45.204601",
     "exception": false,
     "start_time": "2025-05-20T13:56:43.172609",
     "status": "completed"
    },
    "tags": []
   },
   "outputs": [
    {
     "name": "stdout",
     "output_type": "stream",
     "text": [
      "              precision    recall  f1-score   support\n",
      "\n",
      "           0       0.93      0.87      0.90      3622\n",
      "           1       0.88      0.94      0.91      4472\n",
      "           2       0.91      0.90      0.91      4131\n",
      "\n",
      "    accuracy                           0.90     12225\n",
      "   macro avg       0.91      0.90      0.90     12225\n",
      "weighted avg       0.91      0.90      0.90     12225\n",
      "\n"
     ]
    },
    {
     "data": {
      "image/png": "[encoded data removed]",
      "text/plain": [
       "<Figure size 640x480 with 2 Axes>"
      ]
     },
     "metadata": {},
     "output_type": "display_data"
    }
   ],
   "source": [
    "#MultinomialNB with CountVectorizer unigram and bigrams\n",
    "\n",
    "clf_13 = Pipeline([\n",
    "    (\"vectorizer\", CountVectorizer(ngram_range=(1, 2))),\n",
    "    (\"classifier\", MultinomialNB())\n",
    "])\n",
    "\n",
    "clf_13.fit(X_train_pr, y_train_pr)\n",
    "\n",
    "y_pred_13 = clf_13.predict(X_test_pr)\n",
    "print(classification_report(y_test_pr, y_pred_13))\n",
    "\n",
    "cm13 = confusion_matrix(y_test, y_pred_13)\n",
    "sns.heatmap(cm13, annot=True, fmt=\"d\")\n",
    "plt.show();"
   ]
  },
  {
   "cell_type": "code",
   "execution_count": 31,
   "id": "69db2feb",
   "metadata": {
    "execution": {
     "iopub.execute_input": "2025-05-20T13:56:45.236296Z",
     "iopub.status.busy": "2025-05-20T13:56:45.235996Z",
     "iopub.status.idle": "2025-05-20T13:56:46.096881Z",
     "shell.execute_reply": "2025-05-20T13:56:46.096057Z"
    },
    "papermill": {
     "duration": 0.877786,
     "end_time": "2025-05-20T13:56:46.098258",
     "exception": false,
     "start_time": "2025-05-20T13:56:45.220472",
     "status": "completed"
    },
    "tags": []
   },
   "outputs": [
    {
     "name": "stdout",
     "output_type": "stream",
     "text": [
      "              precision    recall  f1-score   support\n",
      "\n",
      "           0       0.89      0.66      0.76      3622\n",
      "           1       0.74      0.89      0.81      4472\n",
      "           2       0.80      0.81      0.80      4131\n",
      "\n",
      "    accuracy                           0.80     12225\n",
      "   macro avg       0.81      0.79      0.79     12225\n",
      "weighted avg       0.81      0.80      0.79     12225\n",
      "\n"
     ]
    },
    {
     "data": {
      "image/png": "[encoded data removed]",
      "text/plain": [
       "<Figure size 640x480 with 2 Axes>"
      ]
     },
     "metadata": {},
     "output_type": "display_data"
    }
   ],
   "source": [
    "#MultinomialNB with TfIdfVectorizer\n",
    "\n",
    "clf_14 = Pipeline([\n",
    "    (\"vectorizer\", TfidfVectorizer()),\n",
    "    (\"classifier\", MultinomialNB())\n",
    "])\n",
    "\n",
    "clf_14.fit(X_train_pr, y_train_pr)\n",
    "\n",
    "y_pred_14 = clf_14.predict(X_test_pr)\n",
    "print(classification_report(y_test_pr, y_pred_14))\n",
    "\n",
    "cm14 = confusion_matrix(y_test, y_pred_14)\n",
    "sns.heatmap(cm14, annot=True, fmt=\"d\")\n",
    "plt.show();"
   ]
  },
  {
   "cell_type": "code",
   "execution_count": 32,
   "id": "f27e3ac2",
   "metadata": {
    "execution": {
     "iopub.execute_input": "2025-05-20T13:56:46.131479Z",
     "iopub.status.busy": "2025-05-20T13:56:46.130660Z",
     "iopub.status.idle": "2025-05-20T13:56:47.112182Z",
     "shell.execute_reply": "2025-05-20T13:56:47.111436Z"
    },
    "papermill": {
     "duration": 0.998616,
     "end_time": "2025-05-20T13:56:47.113359",
     "exception": false,
     "start_time": "2025-05-20T13:56:46.114743",
     "status": "completed"
    },
    "tags": []
   },
   "outputs": [
    {
     "name": "stdout",
     "output_type": "stream",
     "text": [
      "              precision    recall  f1-score   support\n",
      "\n",
      "           0       0.93      0.87      0.90      3622\n",
      "           1       0.88      0.94      0.91      4472\n",
      "           2       0.91      0.90      0.91      4131\n",
      "\n",
      "    accuracy                           0.90     12225\n",
      "   macro avg       0.91      0.90      0.90     12225\n",
      "weighted avg       0.91      0.90      0.90     12225\n",
      "\n"
     ]
    },
    {
     "data": {
      "image/png": "[encoded data removed]",
      "text/plain": [
       "<Figure size 640x480 with 2 Axes>"
      ]
     },
     "metadata": {},
     "output_type": "display_data"
    }
   ],
   "source": [
    "#KNN with CountVectorizer unigram\n",
    "\n",
    "clf_15 = Pipeline([\n",
    "    (\"vectorizer\", CountVectorizer(ngram_range=(1, 1))),\n",
    "    (\"classifier\", KNeighborsClassifier(n_neighbors=5, n_jobs=-1))\n",
    "])\n",
    "\n",
    "clf_15.fit(X_train_pr, y_train_pr)\n",
    "\n",
    "y_pred_15 = clf_13.predict(X_test_pr)\n",
    "print(classification_report(y_test_pr, y_pred_15))\n",
    "\n",
    "cm15 = confusion_matrix(y_test, y_pred_15)\n",
    "sns.heatmap(cm15, annot=True, fmt=\"d\")\n",
    "plt.show();"
   ]
  },
  {
   "cell_type": "code",
   "execution_count": 33,
   "id": "b77c3638",
   "metadata": {
    "execution": {
     "iopub.execute_input": "2025-05-20T13:56:47.147396Z",
     "iopub.status.busy": "2025-05-20T13:56:47.146644Z",
     "iopub.status.idle": "2025-05-20T13:56:48.996355Z",
     "shell.execute_reply": "2025-05-20T13:56:48.995645Z"
    },
    "papermill": {
     "duration": 1.867607,
     "end_time": "2025-05-20T13:56:48.997577",
     "exception": false,
     "start_time": "2025-05-20T13:56:47.129970",
     "status": "completed"
    },
    "tags": []
   },
   "outputs": [
    {
     "name": "stdout",
     "output_type": "stream",
     "text": [
      "              precision    recall  f1-score   support\n",
      "\n",
      "           0       0.89      0.66      0.76      3622\n",
      "           1       0.74      0.89      0.81      4472\n",
      "           2       0.80      0.81      0.80      4131\n",
      "\n",
      "    accuracy                           0.80     12225\n",
      "   macro avg       0.81      0.79      0.79     12225\n",
      "weighted avg       0.81      0.80      0.79     12225\n",
      "\n"
     ]
    },
    {
     "data": {
      "image/png": "[encoded data removed]",
      "text/plain": [
       "<Figure size 640x480 with 2 Axes>"
      ]
     },
     "metadata": {},
     "output_type": "display_data"
    }
   ],
   "source": [
    "#KNN with CountVectorizer unigram and bigrams\n",
    "\n",
    "clf_16 = Pipeline([\n",
    "    (\"vectorizer\", CountVectorizer(ngram_range=(1, 2))),\n",
    "    (\"classifier\", KNeighborsClassifier(n_neighbors=5, n_jobs=-1))\n",
    "])\n",
    "\n",
    "clf_16.fit(X_train_pr, y_train_pr)\n",
    "\n",
    "y_pred_16 = clf_14.predict(X_test_pr)\n",
    "print(classification_report(y_test_pr, y_pred_16))\n",
    "\n",
    "cm16 = confusion_matrix(y_test, y_pred_16)\n",
    "sns.heatmap(cm16, annot=True, fmt=\"d\")\n",
    "plt.show();"
   ]
  },
  {
   "cell_type": "markdown",
   "id": "212db555",
   "metadata": {
    "papermill": {
     "duration": 0.01591,
     "end_time": "2025-05-20T13:56:49.030864",
     "exception": false,
     "start_time": "2025-05-20T13:56:49.014954",
     "status": "completed"
    },
    "tags": []
   },
   "source": [
    "**Observation**\n",
    "* It seems Random Forest with CountVectorizer unigram, Random Forest with CountVectorizer unigram & bigrams and Random Forest with TfIdfVectorizer are giving the best outcomes.\n",
    "* So we'll go for all three and will decide the best pick from the validation set"
   ]
  },
  {
   "cell_type": "code",
   "execution_count": 34,
   "id": "4e859d9b",
   "metadata": {
    "execution": {
     "iopub.execute_input": "2025-05-20T13:56:49.063642Z",
     "iopub.status.busy": "2025-05-20T13:56:49.063004Z",
     "iopub.status.idle": "2025-05-20T13:56:49.094200Z",
     "shell.execute_reply": "2025-05-20T13:56:49.093464Z"
    },
    "papermill": {
     "duration": 0.049018,
     "end_time": "2025-05-20T13:56:49.095464",
     "exception": false,
     "start_time": "2025-05-20T13:56:49.046446",
     "status": "completed"
    },
    "tags": []
   },
   "outputs": [
    {
     "data": {
      "text/html": [
       "<div>\n",
       "<style scoped>\n",
       "    .dataframe tbody tr th:only-of-type {\n",
       "        vertical-align: middle;\n",
       "    }\n",
       "\n",
       "    .dataframe tbody tr th {\n",
       "        vertical-align: top;\n",
       "    }\n",
       "\n",
       "    .dataframe thead th {\n",
       "        text-align: right;\n",
       "    }\n",
       "</style>\n",
       "<table border=\"1\" class=\"dataframe\">\n",
       "  <thead>\n",
       "    <tr style=\"text-align: right;\">\n",
       "      <th></th>\n",
       "      <th>id</th>\n",
       "      <th>platform</th>\n",
       "      <th>sentiment</th>\n",
       "      <th>text</th>\n",
       "    </tr>\n",
       "  </thead>\n",
       "  <tbody>\n",
       "    <tr>\n",
       "      <th>0</th>\n",
       "      <td>3364</td>\n",
       "      <td>Facebook</td>\n",
       "      <td>Irrelevant</td>\n",
       "      <td>I mentioned on Facebook that I was struggling ...</td>\n",
       "    </tr>\n",
       "    <tr>\n",
       "      <th>1</th>\n",
       "      <td>352</td>\n",
       "      <td>Amazon</td>\n",
       "      <td>Neutral</td>\n",
       "      <td>BBC News - Amazon boss Jeff Bezos rejects clai...</td>\n",
       "    </tr>\n",
       "    <tr>\n",
       "      <th>2</th>\n",
       "      <td>8312</td>\n",
       "      <td>Microsoft</td>\n",
       "      <td>Negative</td>\n",
       "      <td>@Microsoft Why do I pay for WORD when it funct...</td>\n",
       "    </tr>\n",
       "    <tr>\n",
       "      <th>3</th>\n",
       "      <td>4371</td>\n",
       "      <td>CS-GO</td>\n",
       "      <td>Negative</td>\n",
       "      <td>CSGO matchmaking is so full of closet hacking,...</td>\n",
       "    </tr>\n",
       "    <tr>\n",
       "      <th>4</th>\n",
       "      <td>4433</td>\n",
       "      <td>Google</td>\n",
       "      <td>Neutral</td>\n",
       "      <td>Now the President is slapping Americans in the...</td>\n",
       "    </tr>\n",
       "  </tbody>\n",
       "</table>\n",
       "</div>"
      ],
      "text/plain": [
       "     id   platform   sentiment  \\\n",
       "0  3364   Facebook  Irrelevant   \n",
       "1   352     Amazon     Neutral   \n",
       "2  8312  Microsoft    Negative   \n",
       "3  4371      CS-GO    Negative   \n",
       "4  4433     Google     Neutral   \n",
       "\n",
       "                                                text  \n",
       "0  I mentioned on Facebook that I was struggling ...  \n",
       "1  BBC News - Amazon boss Jeff Bezos rejects clai...  \n",
       "2  @Microsoft Why do I pay for WORD when it funct...  \n",
       "3  CSGO matchmaking is so full of closet hacking,...  \n",
       "4  Now the President is slapping Americans in the...  "
      ]
     },
     "execution_count": 34,
     "metadata": {},
     "output_type": "execute_result"
    }
   ],
   "source": [
    "column_names = [\"id\", \"platform\", \"sentiment\", \"text\"]\n",
    "df_val = pd.read_csv(\"/kaggle/input/twitter-entity-sentiment-analysis/twitter_validation.csv\", names=column_names)\n",
    "df_val.head()"
   ]
  },
  {
   "cell_type": "code",
   "execution_count": 35,
   "id": "bd047990",
   "metadata": {
    "execution": {
     "iopub.execute_input": "2025-05-20T13:56:49.128846Z",
     "iopub.status.busy": "2025-05-20T13:56:49.128399Z",
     "iopub.status.idle": "2025-05-20T13:56:49.135225Z",
     "shell.execute_reply": "2025-05-20T13:56:49.134436Z"
    },
    "papermill": {
     "duration": 0.024514,
     "end_time": "2025-05-20T13:56:49.136594",
     "exception": false,
     "start_time": "2025-05-20T13:56:49.112080",
     "status": "completed"
    },
    "tags": []
   },
   "outputs": [
    {
     "data": {
      "text/plain": [
       "id           0\n",
       "platform     0\n",
       "sentiment    0\n",
       "text         0\n",
       "dtype: int64"
      ]
     },
     "execution_count": 35,
     "metadata": {},
     "output_type": "execute_result"
    }
   ],
   "source": [
    "df_val.isna().sum()"
   ]
  },
  {
   "cell_type": "code",
   "execution_count": 36,
   "id": "e049a30b",
   "metadata": {
    "execution": {
     "iopub.execute_input": "2025-05-20T13:56:49.170802Z",
     "iopub.status.busy": "2025-05-20T13:56:49.170334Z",
     "iopub.status.idle": "2025-05-20T13:56:49.178942Z",
     "shell.execute_reply": "2025-05-20T13:56:49.178097Z"
    },
    "papermill": {
     "duration": 0.026606,
     "end_time": "2025-05-20T13:56:49.180426",
     "exception": false,
     "start_time": "2025-05-20T13:56:49.153820",
     "status": "completed"
    },
    "tags": []
   },
   "outputs": [
    {
     "data": {
      "text/html": [
       "<div>\n",
       "<style scoped>\n",
       "    .dataframe tbody tr th:only-of-type {\n",
       "        vertical-align: middle;\n",
       "    }\n",
       "\n",
       "    .dataframe tbody tr th {\n",
       "        vertical-align: top;\n",
       "    }\n",
       "\n",
       "    .dataframe thead th {\n",
       "        text-align: right;\n",
       "    }\n",
       "</style>\n",
       "<table border=\"1\" class=\"dataframe\">\n",
       "  <thead>\n",
       "    <tr style=\"text-align: right;\">\n",
       "      <th></th>\n",
       "      <th>sentiment</th>\n",
       "      <th>text</th>\n",
       "    </tr>\n",
       "  </thead>\n",
       "  <tbody>\n",
       "    <tr>\n",
       "      <th>0</th>\n",
       "      <td>Irrelevant</td>\n",
       "      <td>I mentioned on Facebook that I was struggling ...</td>\n",
       "    </tr>\n",
       "    <tr>\n",
       "      <th>1</th>\n",
       "      <td>Neutral</td>\n",
       "      <td>BBC News - Amazon boss Jeff Bezos rejects clai...</td>\n",
       "    </tr>\n",
       "    <tr>\n",
       "      <th>2</th>\n",
       "      <td>Negative</td>\n",
       "      <td>@Microsoft Why do I pay for WORD when it funct...</td>\n",
       "    </tr>\n",
       "    <tr>\n",
       "      <th>3</th>\n",
       "      <td>Negative</td>\n",
       "      <td>CSGO matchmaking is so full of closet hacking,...</td>\n",
       "    </tr>\n",
       "    <tr>\n",
       "      <th>4</th>\n",
       "      <td>Neutral</td>\n",
       "      <td>Now the President is slapping Americans in the...</td>\n",
       "    </tr>\n",
       "  </tbody>\n",
       "</table>\n",
       "</div>"
      ],
      "text/plain": [
       "    sentiment                                               text\n",
       "0  Irrelevant  I mentioned on Facebook that I was struggling ...\n",
       "1     Neutral  BBC News - Amazon boss Jeff Bezos rejects clai...\n",
       "2    Negative  @Microsoft Why do I pay for WORD when it funct...\n",
       "3    Negative  CSGO matchmaking is so full of closet hacking,...\n",
       "4     Neutral  Now the President is slapping Americans in the..."
      ]
     },
     "execution_count": 36,
     "metadata": {},
     "output_type": "execute_result"
    }
   ],
   "source": [
    "df_val_2 = df_val[[\"sentiment\", \"text\"]]\n",
    "df_val_2.head()"
   ]
  },
  {
   "cell_type": "code",
   "execution_count": 37,
   "id": "d23c2de6",
   "metadata": {
    "execution": {
     "iopub.execute_input": "2025-05-20T13:56:49.215157Z",
     "iopub.status.busy": "2025-05-20T13:56:49.214859Z",
     "iopub.status.idle": "2025-05-20T13:56:49.221809Z",
     "shell.execute_reply": "2025-05-20T13:56:49.220936Z"
    },
    "papermill": {
     "duration": 0.025033,
     "end_time": "2025-05-20T13:56:49.223277",
     "exception": false,
     "start_time": "2025-05-20T13:56:49.198244",
     "status": "completed"
    },
    "tags": []
   },
   "outputs": [
    {
     "data": {
      "text/plain": [
       "sentiment\n",
       "Neutral       285\n",
       "Positive      277\n",
       "Negative      266\n",
       "Irrelevant    172\n",
       "Name: count, dtype: int64"
      ]
     },
     "execution_count": 37,
     "metadata": {},
     "output_type": "execute_result"
    }
   ],
   "source": [
    "df_val_2.sentiment.value_counts()"
   ]
  },
  {
   "cell_type": "code",
   "execution_count": 38,
   "id": "d736d4c8",
   "metadata": {
    "execution": {
     "iopub.execute_input": "2025-05-20T13:56:49.257762Z",
     "iopub.status.busy": "2025-05-20T13:56:49.257499Z",
     "iopub.status.idle": "2025-05-20T13:56:49.265416Z",
     "shell.execute_reply": "2025-05-20T13:56:49.264715Z"
    },
    "papermill": {
     "duration": 0.026146,
     "end_time": "2025-05-20T13:56:49.266590",
     "exception": false,
     "start_time": "2025-05-20T13:56:49.240444",
     "status": "completed"
    },
    "tags": []
   },
   "outputs": [
    {
     "data": {
      "text/plain": [
       "sentiment\n",
       "Neutral     285\n",
       "Positive    277\n",
       "Negative    266\n",
       "Name: count, dtype: int64"
      ]
     },
     "execution_count": 38,
     "metadata": {},
     "output_type": "execute_result"
    }
   ],
   "source": [
    "df_val_3 = df_val_2[df_val_2.sentiment != \"Irrelevant\"]\n",
    "df_val_3.sentiment.value_counts()"
   ]
  },
  {
   "cell_type": "code",
   "execution_count": 39,
   "id": "64e3d99b",
   "metadata": {
    "execution": {
     "iopub.execute_input": "2025-05-20T13:56:49.301940Z",
     "iopub.status.busy": "2025-05-20T13:56:49.301231Z",
     "iopub.status.idle": "2025-05-20T13:56:49.311989Z",
     "shell.execute_reply": "2025-05-20T13:56:49.311163Z"
    },
    "papermill": {
     "duration": 0.030072,
     "end_time": "2025-05-20T13:56:49.313384",
     "exception": false,
     "start_time": "2025-05-20T13:56:49.283312",
     "status": "completed"
    },
    "tags": []
   },
   "outputs": [
    {
     "name": "stderr",
     "output_type": "stream",
     "text": [
      "/tmp/ipykernel_19/2634388627.py:3: SettingWithCopyWarning: \n",
      "A value is trying to be set on a copy of a slice from a DataFrame.\n",
      "Try using .loc[row_indexer,col_indexer] = value instead\n",
      "\n",
      "See the caveats in the documentation: https://pandas.pydata.org/pandas-docs/stable/user_guide/indexing.html#returning-a-view-versus-a-copy\n",
      "  df_val_3[\"sentiment_num\"] = df_val_3.sentiment.map(sentiment_numbers)\n"
     ]
    },
    {
     "data": {
      "text/html": [
       "<div>\n",
       "<style scoped>\n",
       "    .dataframe tbody tr th:only-of-type {\n",
       "        vertical-align: middle;\n",
       "    }\n",
       "\n",
       "    .dataframe tbody tr th {\n",
       "        vertical-align: top;\n",
       "    }\n",
       "\n",
       "    .dataframe thead th {\n",
       "        text-align: right;\n",
       "    }\n",
       "</style>\n",
       "<table border=\"1\" class=\"dataframe\">\n",
       "  <thead>\n",
       "    <tr style=\"text-align: right;\">\n",
       "      <th></th>\n",
       "      <th>sentiment</th>\n",
       "      <th>text</th>\n",
       "      <th>sentiment_num</th>\n",
       "    </tr>\n",
       "  </thead>\n",
       "  <tbody>\n",
       "    <tr>\n",
       "      <th>1</th>\n",
       "      <td>Neutral</td>\n",
       "      <td>BBC News - Amazon boss Jeff Bezos rejects clai...</td>\n",
       "      <td>0</td>\n",
       "    </tr>\n",
       "    <tr>\n",
       "      <th>2</th>\n",
       "      <td>Negative</td>\n",
       "      <td>@Microsoft Why do I pay for WORD when it funct...</td>\n",
       "      <td>1</td>\n",
       "    </tr>\n",
       "    <tr>\n",
       "      <th>3</th>\n",
       "      <td>Negative</td>\n",
       "      <td>CSGO matchmaking is so full of closet hacking,...</td>\n",
       "      <td>1</td>\n",
       "    </tr>\n",
       "    <tr>\n",
       "      <th>4</th>\n",
       "      <td>Neutral</td>\n",
       "      <td>Now the President is slapping Americans in the...</td>\n",
       "      <td>0</td>\n",
       "    </tr>\n",
       "    <tr>\n",
       "      <th>5</th>\n",
       "      <td>Negative</td>\n",
       "      <td>Hi @EAHelp I’ve had Madeleine McCann in my cel...</td>\n",
       "      <td>1</td>\n",
       "    </tr>\n",
       "  </tbody>\n",
       "</table>\n",
       "</div>"
      ],
      "text/plain": [
       "  sentiment                                               text  sentiment_num\n",
       "1   Neutral  BBC News - Amazon boss Jeff Bezos rejects clai...              0\n",
       "2  Negative  @Microsoft Why do I pay for WORD when it funct...              1\n",
       "3  Negative  CSGO matchmaking is so full of closet hacking,...              1\n",
       "4   Neutral  Now the President is slapping Americans in the...              0\n",
       "5  Negative  Hi @EAHelp I’ve had Madeleine McCann in my cel...              1"
      ]
     },
     "execution_count": 39,
     "metadata": {},
     "output_type": "execute_result"
    }
   ],
   "source": [
    "sentiment_numbers = {\"Neutral\": 0, \"Negative\": 1, \"Positive\": 2}\n",
    "\n",
    "df_val_3[\"sentiment_num\"] = df_val_3.sentiment.map(sentiment_numbers)\n",
    "df_val_3.head()"
   ]
  },
  {
   "cell_type": "code",
   "execution_count": 40,
   "id": "eb3a5433",
   "metadata": {
    "execution": {
     "iopub.execute_input": "2025-05-20T13:56:49.349757Z",
     "iopub.status.busy": "2025-05-20T13:56:49.349481Z",
     "iopub.status.idle": "2025-05-20T13:56:49.354274Z",
     "shell.execute_reply": "2025-05-20T13:56:49.353619Z"
    },
    "papermill": {
     "duration": 0.0234,
     "end_time": "2025-05-20T13:56:49.355389",
     "exception": false,
     "start_time": "2025-05-20T13:56:49.331989",
     "status": "completed"
    },
    "tags": []
   },
   "outputs": [
    {
     "name": "stdout",
     "output_type": "stream",
     "text": [
      "(828,)\n",
      "(828,)\n"
     ]
    }
   ],
   "source": [
    "X_val = df_val_3[\"text\"]\n",
    "y_val = df_val_3[\"sentiment_num\"]\n",
    "print(X_val.shape)\n",
    "print(y_val.shape)"
   ]
  },
  {
   "cell_type": "code",
   "execution_count": 41,
   "id": "85c9aa57",
   "metadata": {
    "execution": {
     "iopub.execute_input": "2025-05-20T13:56:49.390008Z",
     "iopub.status.busy": "2025-05-20T13:56:49.389727Z",
     "iopub.status.idle": "2025-05-20T13:56:49.626373Z",
     "shell.execute_reply": "2025-05-20T13:56:49.625197Z"
    },
    "papermill": {
     "duration": 0.255862,
     "end_time": "2025-05-20T13:56:49.627806",
     "exception": false,
     "start_time": "2025-05-20T13:56:49.371944",
     "status": "completed"
    },
    "tags": []
   },
   "outputs": [
    {
     "name": "stdout",
     "output_type": "stream",
     "text": [
      "              precision    recall  f1-score   support\n",
      "\n",
      "           0       0.97      0.97      0.97       285\n",
      "           1       0.98      0.98      0.98       266\n",
      "           2       0.98      0.97      0.97       277\n",
      "\n",
      "    accuracy                           0.97       828\n",
      "   macro avg       0.97      0.97      0.97       828\n",
      "weighted avg       0.97      0.97      0.97       828\n",
      "\n"
     ]
    },
    {
     "data": {
      "image/png": "[encoded data removed]",
      "text/plain": [
       "<Figure size 640x480 with 2 Axes>"
      ]
     },
     "metadata": {},
     "output_type": "display_data"
    }
   ],
   "source": [
    "y_pred_val = clf_1.predict(X_val)\n",
    "print(classification_report(y_val, y_pred_val))\n",
    "\n",
    "cm_val = confusion_matrix(y_val, y_pred_val)\n",
    "sns.heatmap(cm_val, annot=True, fmt=\"d\")\n",
    "plt.show();"
   ]
  },
  {
   "cell_type": "code",
   "execution_count": 42,
   "id": "776352c2",
   "metadata": {
    "execution": {
     "iopub.execute_input": "2025-05-20T13:56:49.665887Z",
     "iopub.status.busy": "2025-05-20T13:56:49.665579Z",
     "iopub.status.idle": "2025-05-20T13:56:49.959034Z",
     "shell.execute_reply": "2025-05-20T13:56:49.958183Z"
    },
    "papermill": {
     "duration": 0.313077,
     "end_time": "2025-05-20T13:56:49.960425",
     "exception": false,
     "start_time": "2025-05-20T13:56:49.647348",
     "status": "completed"
    },
    "tags": []
   },
   "outputs": [
    {
     "name": "stdout",
     "output_type": "stream",
     "text": [
      "              precision    recall  f1-score   support\n",
      "\n",
      "           0       0.98      0.98      0.98       285\n",
      "           1       0.98      0.98      0.98       266\n",
      "           2       0.98      0.97      0.98       277\n",
      "\n",
      "    accuracy                           0.98       828\n",
      "   macro avg       0.98      0.98      0.98       828\n",
      "weighted avg       0.98      0.98      0.98       828\n",
      "\n"
     ]
    },
    {
     "data": {
      "image/png": "[encoded data removed]",
      "text/plain": [
       "<Figure size 640x480 with 2 Axes>"
      ]
     },
     "metadata": {},
     "output_type": "display_data"
    }
   ],
   "source": [
    "y_pred_val_2 = clf_2.predict(X_val)\n",
    "print(classification_report(y_val, y_pred_val_2))\n",
    "\n",
    "cm_val_2 = confusion_matrix(y_val, y_pred_val_2)\n",
    "sns.heatmap(cm_val_2, annot=True, fmt=\"d\")\n",
    "plt.show();"
   ]
  },
  {
   "cell_type": "code",
   "execution_count": 43,
   "id": "0f90f5f6",
   "metadata": {
    "execution": {
     "iopub.execute_input": "2025-05-20T13:56:49.998062Z",
     "iopub.status.busy": "2025-05-20T13:56:49.997333Z",
     "iopub.status.idle": "2025-05-20T13:56:50.249713Z",
     "shell.execute_reply": "2025-05-20T13:56:50.248948Z"
    },
    "papermill": {
     "duration": 0.272317,
     "end_time": "2025-05-20T13:56:50.250898",
     "exception": false,
     "start_time": "2025-05-20T13:56:49.978581",
     "status": "completed"
    },
    "tags": []
   },
   "outputs": [
    {
     "name": "stdout",
     "output_type": "stream",
     "text": [
      "              precision    recall  f1-score   support\n",
      "\n",
      "           0       0.97      0.98      0.97       285\n",
      "           1       0.97      0.97      0.97       266\n",
      "           2       0.98      0.97      0.98       277\n",
      "\n",
      "    accuracy                           0.97       828\n",
      "   macro avg       0.97      0.97      0.97       828\n",
      "weighted avg       0.97      0.97      0.97       828\n",
      "\n"
     ]
    },
    {
     "data": {
      "image/png": "[encoded data removed]",
      "text/plain": [
       "<Figure size 640x480 with 2 Axes>"
      ]
     },
     "metadata": {},
     "output_type": "display_data"
    }
   ],
   "source": [
    "y_pred_val_3 = clf_3.predict(X_val)\n",
    "print(classification_report(y_val, y_pred_val_3))\n",
    "\n",
    "cm_val_3 = confusion_matrix(y_val, y_pred_val_3)\n",
    "sns.heatmap(cm_val_3, annot=True, fmt=\"d\")\n",
    "plt.show();"
   ]
  },
  {
   "cell_type": "markdown",
   "id": "e1ade7c4",
   "metadata": {
    "papermill": {
     "duration": 0.018569,
     "end_time": "2025-05-20T13:56:50.288834",
     "exception": false,
     "start_time": "2025-05-20T13:56:50.270265",
     "status": "completed"
    },
    "tags": []
   },
   "source": [
    "**Observation**\n",
    "* Here we're seeing Random Forest with CountVectorizer unigram and Random Forest with CountVectorizer unigram & bigrams can be the best pick.\n",
    "* But for simplicity We'll go for Random Forest with CountVectorizer unigram."
   ]
  },
  {
   "cell_type": "code",
   "execution_count": 44,
   "id": "fe9bb633",
   "metadata": {
    "execution": {
     "iopub.execute_input": "2025-05-20T13:56:50.328005Z",
     "iopub.status.busy": "2025-05-20T13:56:50.327267Z",
     "iopub.status.idle": "2025-05-20T13:56:50.699895Z",
     "shell.execute_reply": "2025-05-20T13:56:50.699081Z"
    },
    "papermill": {
     "duration": 0.393719,
     "end_time": "2025-05-20T13:56:50.701310",
     "exception": false,
     "start_time": "2025-05-20T13:56:50.307591",
     "status": "completed"
    },
    "tags": []
   },
   "outputs": [
    {
     "data": {
      "text/plain": [
       "['/kaggle/working/random_forest_model.pkl']"
      ]
     },
     "execution_count": 44,
     "metadata": {},
     "output_type": "execute_result"
    }
   ],
   "source": [
    "import joblib\n",
    "\n",
    "joblib.dump(clf_1, \"/kaggle/working/random_forest_model.pkl\")"
   ]
  },
  {
   "cell_type": "code",
   "execution_count": null,
   "id": "882ae038",
   "metadata": {
    "papermill": {
     "duration": 0.017929,
     "end_time": "2025-05-20T13:56:50.737834",
     "exception": false,
     "start_time": "2025-05-20T13:56:50.719905",
     "status": "completed"
    },
    "tags": []
   },
   "outputs": [],
   "source": []
  }
 ],
 "metadata": {
  "kaggle": {
   "accelerator": "gpu",
   "dataSources": [
    {
     "datasetId": 1520310,
     "sourceId": 2510329,
     "sourceType": "datasetVersion"
    }
   ],
   "dockerImageVersionId": 31040,
   "isGpuEnabled": true,
   "isInternetEnabled": true,
   "language": "python",
   "sourceType": "notebook"
  },
  "kernelspec": {
   "display_name": "Python 3",
   "language": "python",
   "name": "python3"
  },
  "language_info": {
   "codemirror_mode": {
    "name": "ipython",
    "version": 3
   },
   "file_extension": ".py",
   "mimetype": "text/x-python",
   "name": "python",
   "nbconvert_exporter": "python",
   "pygments_lexer": "ipython3",
   "version": "3.11.11"
  },
  "papermill": {
   "default_parameters": {},
   "duration": 1395.552734,
   "end_time": "2025-05-20T13:56:53.562532",
   "environment_variables": {},
   "exception": null,
   "input_path": "__notebook__.ipynb",
   "output_path": "__notebook__.ipynb",
   "parameters": {},
   "start_time": "2025-05-20T13:33:38.009798",
   "version": "2.6.0"
  }
 },
 "nbformat": 4,
 "nbformat_minor": 5
}
